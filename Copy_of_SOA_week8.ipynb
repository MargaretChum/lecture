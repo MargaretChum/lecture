{
  "cells": [
    {
      "cell_type": "markdown",
      "metadata": {
        "id": "view-in-github",
        "colab_type": "text"
      },
      "source": [
        "<a href=\"https://colab.research.google.com/github/MargaretChum/lecture/blob/main/Copy_of_SOA_week8.ipynb\" target=\"_parent\"><img src=\"https://colab.research.google.com/assets/colab-badge.svg\" alt=\"Open In Colab\"/></a>"
      ]
    },
    {
      "cell_type": "code",
      "execution_count": null,
      "metadata": {
        "colab": {
          "base_uri": "https://localhost:8080/"
        },
        "id": "OrKlo02IuFDR",
        "outputId": "d5588f02-16a3-45be-eed9-1e73c427e646"
      },
      "outputs": [
        {
          "output_type": "stream",
          "name": "stdout",
          "text": [
            "Requirement already satisfied: Flask in /usr/local/lib/python3.10/dist-packages (2.2.5)\n",
            "Requirement already satisfied: Werkzeug>=2.2.2 in /usr/local/lib/python3.10/dist-packages (from Flask) (3.0.6)\n",
            "Requirement already satisfied: Jinja2>=3.0 in /usr/local/lib/python3.10/dist-packages (from Flask) (3.1.4)\n",
            "Requirement already satisfied: itsdangerous>=2.0 in /usr/local/lib/python3.10/dist-packages (from Flask) (2.2.0)\n",
            "Requirement already satisfied: click>=8.0 in /usr/local/lib/python3.10/dist-packages (from Flask) (8.1.7)\n",
            "Requirement already satisfied: MarkupSafe>=2.0 in /usr/local/lib/python3.10/dist-packages (from Jinja2>=3.0->Flask) (3.0.2)\n",
            "Collecting pyngrok\n",
            "  Downloading pyngrok-7.2.1-py3-none-any.whl.metadata (8.3 kB)\n",
            "Requirement already satisfied: PyYAML>=5.1 in /usr/local/lib/python3.10/dist-packages (from pyngrok) (6.0.2)\n",
            "Downloading pyngrok-7.2.1-py3-none-any.whl (22 kB)\n",
            "Installing collected packages: pyngrok\n",
            "Successfully installed pyngrok-7.2.1\n"
          ]
        }
      ],
      "source": [
        "# Install Flask and pyngrok libraries for building and exposing a web server\n",
        "!pip install Flask  # Flask is a micro web framework for building web applications in Python.\n",
        "!pip install pyngrok  # pyngrok is used to expose the local Flask server to the internet through an ngrok tunnel."
      ]
    },
    {
      "cell_type": "markdown",
      "metadata": {
        "id": "ezbVPDxOua0g"
      },
      "source": []
    },
    {
      "cell_type": "code",
      "execution_count": null,
      "metadata": {
        "colab": {
          "base_uri": "https://localhost:8080/"
        },
        "id": "19zOmuq9ujwM",
        "outputId": "b6dd0b90-a278-4868-c16a-34061b9f6cfb"
      },
      "outputs": [
        {
          "metadata": {
            "tags": null
          },
          "name": "stdout",
          "output_type": "stream",
          "text": [
            "Authtoken saved to configuration file: /root/.config/ngrok/ngrok.yml\n",
            "Public URL: NgrokTunnel: \"https://452b-34-75-11-110.ngrok-free.app\" -> \"http://localhost:5000\"\n",
            " * Serving Flask app '__main__'\n",
            " * Debug mode: off\n"
          ]
        },
        {
          "output_type": "stream",
          "name": "stderr",
          "text": [
            "INFO:werkzeug:\u001b[31m\u001b[1mWARNING: This is a development server. Do not use it in a production deployment. Use a production WSGI server instead.\u001b[0m\n",
            " * Running on http://127.0.0.1:5000\n",
            "INFO:werkzeug:\u001b[33mPress CTRL+C to quit\u001b[0m\n",
            "INFO:werkzeug:127.0.0.1 - - [07/Nov/2024 16:14:53] \"GET /users HTTP/1.1\" 200 -\n",
            "INFO:werkzeug:127.0.0.1 - - [07/Nov/2024 16:15:36] \"\u001b[33mPOST /users/users HTTP/1.1\u001b[0m\" 404 -\n",
            "INFO:werkzeug:127.0.0.1 - - [07/Nov/2024 16:15:41] \"GET /users HTTP/1.1\" 200 -\n",
            "INFO:werkzeug:127.0.0.1 - - [07/Nov/2024 16:15:49] \"\u001b[35m\u001b[1mPOST /users HTTP/1.1\u001b[0m\" 201 -\n",
            "INFO:werkzeug:127.0.0.1 - - [07/Nov/2024 16:15:53] \"GET /users HTTP/1.1\" 200 -\n",
            "INFO:werkzeug:127.0.0.1 - - [07/Nov/2024 16:19:06] \"\u001b[35m\u001b[1mPOST /users HTTP/1.1\u001b[0m\" 201 -\n",
            "INFO:werkzeug:127.0.0.1 - - [07/Nov/2024 16:19:14] \"GET /users HTTP/1.1\" 200 -\n",
            "INFO:werkzeug:127.0.0.1 - - [07/Nov/2024 16:19:23] \"GET /users HTTP/1.1\" 200 -\n",
            "INFO:werkzeug:127.0.0.1 - - [07/Nov/2024 16:19:23] \"\u001b[33mGET /favicon.ico HTTP/1.1\u001b[0m\" 404 -\n",
            "INFO:werkzeug:127.0.0.1 - - [07/Nov/2024 16:20:20] \"GET /users HTTP/1.1\" 200 -\n",
            "INFO:werkzeug:127.0.0.1 - - [07/Nov/2024 16:20:35] \"\u001b[35m\u001b[1mPOST /users HTTP/1.1\u001b[0m\" 201 -\n",
            "INFO:werkzeug:127.0.0.1 - - [07/Nov/2024 16:20:38] \"GET /users HTTP/1.1\" 200 -\n",
            "INFO:werkzeug:127.0.0.1 - - [07/Nov/2024 16:20:45] \"GET /users HTTP/1.1\" 200 -\n",
            "INFO:werkzeug:127.0.0.1 - - [07/Nov/2024 16:21:50] \"PUT /users/3 HTTP/1.1\" 200 -\n",
            "INFO:werkzeug:127.0.0.1 - - [07/Nov/2024 16:21:54] \"GET /users HTTP/1.1\" 200 -\n",
            "INFO:werkzeug:127.0.0.1 - - [07/Nov/2024 16:21:58] \"GET /users HTTP/1.1\" 200 -\n",
            "INFO:werkzeug:127.0.0.1 - - [07/Nov/2024 16:22:39] \"DELETE /users/3 HTTP/1.1\" 200 -\n",
            "INFO:werkzeug:127.0.0.1 - - [07/Nov/2024 16:22:51] \"GET /users HTTP/1.1\" 200 -\n",
            "INFO:werkzeug:127.0.0.1 - - [07/Nov/2024 16:23:00] \"GET /users HTTP/1.1\" 200 -\n",
            "INFO:werkzeug:127.0.0.1 - - [07/Nov/2024 16:29:00] \"GET /users HTTP/1.1\" 200 -\n",
            "INFO:werkzeug:127.0.0.1 - - [07/Nov/2024 16:29:07] \"GET /users HTTP/1.1\" 200 -\n",
            "INFO:werkzeug:127.0.0.1 - - [07/Nov/2024 16:29:35] \"\u001b[35m\u001b[1mPOST /users HTTP/1.1\u001b[0m\" 201 -\n",
            "INFO:werkzeug:127.0.0.1 - - [07/Nov/2024 16:29:45] \"GET /users HTTP/1.1\" 200 -\n",
            "INFO:werkzeug:127.0.0.1 - - [07/Nov/2024 16:29:53] \"GET /users HTTP/1.1\" 200 -\n",
            "INFO:werkzeug:127.0.0.1 - - [07/Nov/2024 16:30:39] \"PUT /users/3 HTTP/1.1\" 200 -\n",
            "INFO:werkzeug:127.0.0.1 - - [07/Nov/2024 16:30:48] \"GET /users HTTP/1.1\" 200 -\n",
            "INFO:werkzeug:127.0.0.1 - - [07/Nov/2024 16:30:55] \"GET /users HTTP/1.1\" 200 -\n",
            "INFO:werkzeug:127.0.0.1 - - [07/Nov/2024 16:31:18] \"DELETE /users/2 HTTP/1.1\" 200 -\n",
            "INFO:werkzeug:127.0.0.1 - - [07/Nov/2024 16:31:35] \"GET /users HTTP/1.1\" 200 -\n",
            "INFO:werkzeug:127.0.0.1 - - [07/Nov/2024 16:31:43] \"GET /users HTTP/1.1\" 200 -\n",
            "INFO:werkzeug:127.0.0.1 - - [07/Nov/2024 16:33:19] \"\u001b[35m\u001b[1mPOST /users HTTP/1.1\u001b[0m\" 201 -\n",
            "INFO:werkzeug:127.0.0.1 - - [07/Nov/2024 16:33:25] \"GET /users HTTP/1.1\" 200 -\n",
            "INFO:werkzeug:127.0.0.1 - - [07/Nov/2024 16:33:51] \"\u001b[35m\u001b[1mPOST /users HTTP/1.1\u001b[0m\" 201 -\n",
            "INFO:werkzeug:127.0.0.1 - - [07/Nov/2024 16:33:56] \"GET /users HTTP/1.1\" 200 -\n",
            "INFO:werkzeug:127.0.0.1 - - [07/Nov/2024 16:34:06] \"GET /users HTTP/1.1\" 200 -\n",
            "INFO:werkzeug:127.0.0.1 - - [07/Nov/2024 16:34:38] \"\u001b[35m\u001b[1mPOST /users HTTP/1.1\u001b[0m\" 201 -\n",
            "INFO:werkzeug:127.0.0.1 - - [07/Nov/2024 16:34:45] \"\u001b[31m\u001b[1mDELETE /users HTTP/1.1\u001b[0m\" 405 -\n",
            "INFO:werkzeug:127.0.0.1 - - [07/Nov/2024 16:34:50] \"DELETE /users/1 HTTP/1.1\" 200 -\n",
            "INFO:werkzeug:127.0.0.1 - - [07/Nov/2024 16:34:53] \"\u001b[33mDELETE /users/2 HTTP/1.1\u001b[0m\" 404 -\n",
            "INFO:werkzeug:127.0.0.1 - - [07/Nov/2024 16:34:56] \"DELETE /users/3 HTTP/1.1\" 200 -\n",
            "INFO:werkzeug:127.0.0.1 - - [07/Nov/2024 16:35:01] \"GET /users HTTP/1.1\" 200 -\n",
            "INFO:werkzeug:127.0.0.1 - - [07/Nov/2024 16:35:06] \"\u001b[35m\u001b[1mPOST /users HTTP/1.1\u001b[0m\" 201 -\n",
            "INFO:werkzeug:127.0.0.1 - - [07/Nov/2024 16:35:16] \"\u001b[35m\u001b[1mPOST /users HTTP/1.1\u001b[0m\" 201 -\n",
            "INFO:werkzeug:127.0.0.1 - - [07/Nov/2024 16:35:27] \"\u001b[35m\u001b[1mPOST /users HTTP/1.1\u001b[0m\" 201 -\n",
            "INFO:werkzeug:127.0.0.1 - - [07/Nov/2024 16:35:30] \"GET /users HTTP/1.1\" 200 -\n",
            "INFO:werkzeug:127.0.0.1 - - [07/Nov/2024 16:35:55] \"GET /users HTTP/1.1\" 200 -\n",
            "INFO:werkzeug:127.0.0.1 - - [07/Nov/2024 16:37:08] \"GET /users HTTP/1.1\" 200 -\n",
            "INFO:werkzeug:127.0.0.1 - - [07/Nov/2024 16:37:55] \"PUT /users/3 HTTP/1.1\" 200 -\n",
            "INFO:werkzeug:127.0.0.1 - - [07/Nov/2024 16:38:04] \"GET /users HTTP/1.1\" 200 -\n",
            "INFO:werkzeug:127.0.0.1 - - [07/Nov/2024 16:38:19] \"GET /users HTTP/1.1\" 200 -\n",
            "INFO:werkzeug:127.0.0.1 - - [07/Nov/2024 16:38:52] \"\u001b[33mPUT /users/4 HTTP/1.1\u001b[0m\" 404 -\n",
            "INFO:werkzeug:127.0.0.1 - - [07/Nov/2024 16:43:30] \"GET /users HTTP/1.1\" 200 -\n",
            "INFO:werkzeug:127.0.0.1 - - [07/Nov/2024 16:43:49] \"GET /users HTTP/1.1\" 200 -\n",
            "INFO:werkzeug:127.0.0.1 - - [07/Nov/2024 16:44:39] \"PUT /users/3 HTTP/1.1\" 200 -\n",
            "INFO:werkzeug:127.0.0.1 - - [07/Nov/2024 16:44:53] \"GET /users HTTP/1.1\" 200 -\n",
            "INFO:werkzeug:127.0.0.1 - - [07/Nov/2024 16:45:01] \"GET /users HTTP/1.1\" 200 -\n",
            "INFO:werkzeug:127.0.0.1 - - [07/Nov/2024 16:45:27] \"\u001b[33mPUT /users/4 HTTP/1.1\u001b[0m\" 404 -\n",
            "INFO:werkzeug:127.0.0.1 - - [07/Nov/2024 16:45:58] \"DELETE /users/3 HTTP/1.1\" 200 -\n",
            "INFO:werkzeug:127.0.0.1 - - [07/Nov/2024 16:46:04] \"GET /users HTTP/1.1\" 200 -\n",
            "INFO:werkzeug:127.0.0.1 - - [07/Nov/2024 16:46:27] \"\u001b[33mDELETE /users/3 HTTP/1.1\u001b[0m\" 404 -\n",
            "INFO:werkzeug:127.0.0.1 - - [07/Nov/2024 16:46:47] \"GET /users HTTP/1.1\" 200 -\n",
            "INFO:werkzeug:127.0.0.1 - - [07/Nov/2024 16:46:52] \"GET /users HTTP/1.1\" 200 -\n",
            "INFO:werkzeug:127.0.0.1 - - [07/Nov/2024 16:49:53] \"\u001b[35m\u001b[1mPOST /users HTTP/1.1\u001b[0m\" 201 -\n",
            "INFO:werkzeug:127.0.0.1 - - [07/Nov/2024 16:50:03] \"GET /users HTTP/1.1\" 200 -\n",
            "INFO:werkzeug:127.0.0.1 - - [07/Nov/2024 16:51:39] \"GET /users HTTP/1.1\" 200 -\n",
            "INFO:werkzeug:127.0.0.1 - - [07/Nov/2024 16:52:02] \"\u001b[35m\u001b[1mPOST /users HTTP/1.1\u001b[0m\" 201 -\n",
            "INFO:werkzeug:127.0.0.1 - - [07/Nov/2024 16:52:14] \"GET /users HTTP/1.1\" 200 -\n",
            "INFO:werkzeug:127.0.0.1 - - [07/Nov/2024 16:53:12] \"\u001b[31m\u001b[1mPUT /users/4 HTTP/1.1\u001b[0m\" 400 -\n",
            "INFO:werkzeug:127.0.0.1 - - [07/Nov/2024 16:53:19] \"PUT /users/4 HTTP/1.1\" 200 -\n",
            "INFO:werkzeug:127.0.0.1 - - [07/Nov/2024 16:53:30] \"GET /users HTTP/1.1\" 200 -\n",
            "INFO:werkzeug:127.0.0.1 - - [07/Nov/2024 16:54:04] \"\u001b[33mPUT /users/5 HTTP/1.1\u001b[0m\" 404 -\n",
            "INFO:werkzeug:127.0.0.1 - - [07/Nov/2024 16:54:40] \"DELETE /users/4 HTTP/1.1\" 200 -\n",
            "INFO:werkzeug:127.0.0.1 - - [07/Nov/2024 16:54:57] \"GET /users HTTP/1.1\" 200 -\n",
            "INFO:werkzeug:127.0.0.1 - - [07/Nov/2024 16:55:15] \"\u001b[33mDELETE /users/5 HTTP/1.1\u001b[0m\" 404 -\n",
            "INFO:werkzeug:127.0.0.1 - - [07/Nov/2024 19:36:44] \"\u001b[35m\u001b[1mPOST /users HTTP/1.1\u001b[0m\" 201 -\n",
            "INFO:werkzeug:127.0.0.1 - - [07/Nov/2024 19:36:53] \"GET /users HTTP/1.1\" 200 -\n",
            "INFO:werkzeug:127.0.0.1 - - [07/Nov/2024 19:37:16] \"PUT /users/4 HTTP/1.1\" 200 -\n",
            "INFO:werkzeug:127.0.0.1 - - [07/Nov/2024 19:37:21] \"GET /users HTTP/1.1\" 200 -\n",
            "INFO:werkzeug:127.0.0.1 - - [07/Nov/2024 19:37:38] \"\u001b[33mGET / HTTP/1.1\u001b[0m\" 404 -\n",
            "INFO:werkzeug:127.0.0.1 - - [07/Nov/2024 19:37:42] \"\u001b[33mGET / HTTP/1.1\u001b[0m\" 404 -\n",
            "INFO:werkzeug:127.0.0.1 - - [07/Nov/2024 19:37:55] \"GET /users HTTP/1.1\" 200 -\n"
          ]
        }
      ],
      "source": [
        "# Authenticate with ngrok using the provided authtoken (replace with your own token for security).\n",
        "!ngrok config add-authtoken 2oAUJ6FxLYiCjIF6xD6rxzRmMJU_43zF3Esw2sVjYbZC2AFSw\n",
        "\n",
        "from flask import Flask, request, jsonify\n",
        "from pyngrok import ngrok\n",
        "\n",
        "app = Flask(__name__)\n",
        "\n",
        "users = {}\n",
        "\n",
        "@app.route('/users', methods=['POST'])\n",
        "def create_user():\n",
        "    user_id = len(users) + 1\n",
        "    user_data = request.get_json()\n",
        "    users[user_id] = user_data\n",
        "    return jsonify({'id': user_id, 'user': user_data}), 201\n",
        "\n",
        "@app.route('/users', methods=['GET'])\n",
        "def get_users():\n",
        "    return jsonify(users)\n",
        "\n",
        "@app.route('/users/<int:user_id>', methods=['PUT'])\n",
        "def update_user(user_id):\n",
        "    if user_id not in users:\n",
        "        return jsonify({'message': 'User not found'}), 404\n",
        "\n",
        "    user_data = request.get_json()\n",
        "    users[user_id] = user_data\n",
        "    return jsonify({'id': user_id, 'user': user_data}), 200\n",
        "\n",
        "@app.route('/users/<int:user_id>', methods=['DELETE'])\n",
        "def delete_user(user_id):\n",
        "    if user_id not in users:\n",
        "        return jsonify({'message': 'User not found'}), 404\n",
        "\n",
        "    del users[user_id]\n",
        "    return jsonify({'message': 'User deleted'}), 200\n",
        "\n",
        "if __name__ == '__main__':\n",
        "    public_url = ngrok.connect(5000)\n",
        "    print(f'Public URL: {public_url}')\n",
        "    app.run(port=5000)"
      ]
    }
  ],
  "metadata": {
    "colab": {
      "provenance": [],
      "authorship_tag": "ABX9TyPdMT4T5NxOTW5Z1N0+Tc7u",
      "include_colab_link": true
    },
    "kernelspec": {
      "display_name": "Python 3",
      "name": "python3"
    },
    "language_info": {
      "name": "python"
    }
  },
  "nbformat": 4,
  "nbformat_minor": 0
}